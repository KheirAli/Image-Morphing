{
 "cells": [
  {
   "cell_type": "code",
   "execution_count": 109,
   "metadata": {},
   "outputs": [],
   "source": [
    "def generate_face_correspondences(theImage1, theImage2):\n",
    "    # Detect the points of face.\n",
    "    detector = dlib.get_frontal_face_detector()\n",
    "    predictor = dlib.shape_predictor('shape_predictor_68_face_landmarks.dat')\n",
    "    corresp = np.zeros((68,2))\n",
    "\n",
    "    imgList = [theImage1,theImage2]\n",
    "    list1 = []\n",
    "    list2 = []\n",
    "    j = 1\n",
    "\n",
    "    for img in imgList:\n",
    "\n",
    "        size = (img.shape[0],img.shape[1])\n",
    "        if(j == 1):\n",
    "            currList = list1\n",
    "        else:\n",
    "            currList = list2\n",
    "\n",
    "        # Ask the detector to find the bounding boxes of each face. The 1 in the\n",
    "        # second argument indicates that we should upsample the image 1 time. This\n",
    "        # will make everything bigger and allow us to detect more faces.\n",
    "\n",
    "        dets = detector(img, 1)\n",
    "\n",
    "        try:\n",
    "            if len(dets) == 0:\n",
    "                raise NoFaceFound\n",
    "        except NoFaceFound:\n",
    "            print(\"Sorry, but I couldn't find a face in the image.\")\n",
    "\n",
    "        j=j+1\n",
    "\n",
    "        for k, rect in enumerate(dets):\n",
    "            \n",
    "            # Get the landmarks/parts for the face in rect.\n",
    "            shape = predictor(img, rect)\n",
    "            # corresp = face_utils.shape_to_np(shape)\n",
    "            \n",
    "            for i in range(0,68):\n",
    "                x = shape.part(i).x\n",
    "                y = shape.part(i).y\n",
    "                currList.append((x, y))\n",
    "                corresp[i][0] += x\n",
    "                corresp[i][1] += y\n",
    "                # cv2.circle(img, (x, y), 2, (0, 255, 0), 2)\n",
    "\n",
    "            # Add back the background\n",
    "            currList.append((1,1))\n",
    "            currList.append((size[1]-1,1))\n",
    "            currList.append(((size[1]-1)//2,1))\n",
    "            currList.append((1,size[0]-1))\n",
    "            currList.append((1,(size[0]-1)//2))\n",
    "            currList.append(((size[1]-1)//2,size[0]-1))\n",
    "            currList.append((size[1]-1,size[0]-1))\n",
    "            currList.append(((size[1]-1)//2,(size[0]-1)//2))\n",
    "\n",
    "#         cv2.imwrite(\"test.png\", img)\n",
    "\n",
    "    # Add back the background\n",
    "    narray = corresp/2\n",
    "    narray = np.append(narray,[[1,1]],axis=0)\n",
    "    narray = np.append(narray,[[size[1]-1,1]],axis=0)\n",
    "    narray = np.append(narray,[[(size[1]-1)//2,1]],axis=0)\n",
    "    narray = np.append(narray,[[1,size[0]-1]],axis=0)\n",
    "    narray = np.append(narray,[[1,(size[0]-1)//2]],axis=0)\n",
    "    narray = np.append(narray,[[(size[1]-1)//2,size[0]-1]],axis=0)\n",
    "    narray = np.append(narray,[[size[1]-1,size[0]-1]],axis=0)\n",
    "    narray = np.append(narray,[[(size[1]-1)//2,(size[0]-1)//2]],axis=0)\n",
    "    \n",
    "    return [size,imgList[0],imgList[1],list1,list2,narray]"
   ]
  },
  {
   "cell_type": "code",
   "execution_count": 110,
   "metadata": {},
   "outputs": [],
   "source": [
    "import cv2\n",
    "import dlib\n",
    "import numpy as np\n",
    "import matplotlib.pyplot as plt\n",
    "import os"
   ]
  },
  {
   "cell_type": "code",
   "execution_count": 111,
   "metadata": {},
   "outputs": [],
   "source": [
    "image1 = cv2.imread('res21_near.jpeg')\n",
    "image2 = cv2.imread('res22_far.jpeg')"
   ]
  },
  {
   "cell_type": "code",
   "execution_count": 112,
   "metadata": {},
   "outputs": [
    {
     "data": {
      "text/plain": [
       "((353, 360, 3), (353, 360, 3))"
      ]
     },
     "execution_count": 112,
     "metadata": {},
     "output_type": "execute_result"
    }
   ],
   "source": [
    "image1.shape,image2.shape"
   ]
  },
  {
   "cell_type": "code",
   "execution_count": 113,
   "metadata": {},
   "outputs": [],
   "source": [
    "[size, img1, img2, points1, points2, list3] = generate_face_correspondences(image1, image2)"
   ]
  },
  {
   "cell_type": "code",
   "execution_count": 136,
   "metadata": {},
   "outputs": [],
   "source": [
    "# points1\n",
    "a_file = open(\"points1.txt\", \"w\")\n",
    "for row in points1:\n",
    "    np.savetxt(a_file, row)\n",
    "\n",
    "a_file.close()\n",
    "\n",
    "a_file = open(\"points2.txt\", \"w\")\n",
    "for row in points2:\n",
    "    np.savetxt(a_file, row)\n",
    "\n",
    "a_file.close()"
   ]
  },
  {
   "cell_type": "code",
   "execution_count": 171,
   "metadata": {},
   "outputs": [],
   "source": [
    "# (points1+points2)/2\n"
   ]
  },
  {
   "cell_type": "code",
   "execution_count": 151,
   "metadata": {},
   "outputs": [],
   "source": [
    "original_array = np.loadtxt(\"points1.txt\").reshape(76, 2)\n",
    "\n",
    "\n",
    "\n",
    "\n",
    "original_array = np.int64(original_array)\n",
    "points1 = original_array.tolist()\n",
    "\n",
    "original_array = np.loadtxt(\"points2.txt\").reshape(76, 2)\n",
    "original_array = np.int64(original_array)\n",
    "points2 = original_array.tolist()"
   ]
  },
  {
   "cell_type": "code",
   "execution_count": 172,
   "metadata": {},
   "outputs": [],
   "source": [
    "list3 = points1.copy()\n",
    "np.array(points1[0])+np.array(points1[1])\n",
    "for i in range(len(points1)):\n",
    "    temp = (np.array(points1[i])+np.array(points2[i]))/2\n",
    "    \n",
    "    list3[i] = temp.tolist()\n",
    "\n",
    "list3 = np.array(list3)\n",
    "# list3"
   ]
  },
  {
   "cell_type": "code",
   "execution_count": 152,
   "metadata": {},
   "outputs": [],
   "source": [
    "img1_test1 = img1.copy()\n",
    "img2_test1 = img2.copy()"
   ]
  },
  {
   "cell_type": "code",
   "execution_count": 153,
   "metadata": {},
   "outputs": [],
   "source": [
    "for item in points2:\n",
    "    img2_test1[item[1],item[0]] = [255,0,0]"
   ]
  },
  {
   "cell_type": "code",
   "execution_count": 154,
   "metadata": {},
   "outputs": [
    {
     "data": {
      "text/plain": [
       "<matplotlib.image.AxesImage at 0x7fd78382ca90>"
      ]
     },
     "execution_count": 154,
     "metadata": {},
     "output_type": "execute_result"
    },
    {
     "data": {
      "image/png": "[encoded data removed]",
      "text/plain": [
       "<Figure size 432x288 with 1 Axes>"
      ]
     },
     "metadata": {
      "needs_background": "light"
     },
     "output_type": "display_data"
    }
   ],
   "source": [
    "plt.imshow(img2_test1)"
   ]
  },
  {
   "cell_type": "code",
   "execution_count": 102,
   "metadata": {},
   "outputs": [],
   "source": [
    "import cv2\n",
    "import numpy as np\n",
    "import random\n",
    "\n",
    "# Check if a point is inside a rectangle\n",
    "def rect_contains(rect, point):\n",
    "\n",
    "    if point[0] < rect[0]:\n",
    "        return False\n",
    "    elif point[1] < rect[1]:\n",
    "        return False\n",
    "    elif point[0] > rect[2]:\n",
    "        return False\n",
    "    elif point[1] > rect[3]:\n",
    "        return False\n",
    "    return True\n",
    "\n",
    "# Write the delaunay triangles into a file\n",
    "def draw_delaunay(f_w, f_h, subdiv, dictionary1):\n",
    "\n",
    "    list4 = []\n",
    "\n",
    "    triangleList = subdiv.getTriangleList()\n",
    "    r = (0, 0, f_w, f_h)\n",
    "\n",
    "    for t in triangleList :\n",
    "        pt1 = (int(t[0]), int(t[1]))\n",
    "        pt2 = (int(t[2]), int(t[3]))\n",
    "        pt3 = (int(t[4]), int(t[5]))\n",
    "\n",
    "        if rect_contains(r, pt1) and rect_contains(r, pt2) and rect_contains(r, pt3) :\n",
    "            list4.append((dictionary1[pt1],dictionary1[pt2],dictionary1[pt3]))\n",
    "\n",
    "    dictionary1 = {}\n",
    "    return list4\n",
    "\n",
    "def make_delaunay(f_w, f_h, theList, img1, img2):\n",
    "\n",
    "    # Make a rectangle.\n",
    "    rect = (0, 0, f_w, f_h)\n",
    "\n",
    "    # Create an instance of Subdiv2D.\n",
    "    subdiv = cv2.Subdiv2D(rect)\n",
    "\n",
    "    # Make a points list and a searchable dictionary. \n",
    "    theList = theList.tolist()\n",
    "    points = [(int(x[0]),int(x[1])) for x in theList]\n",
    "    dictionary = {x[0]:x[1] for x in list(zip(points, range(76)))}\n",
    "    \n",
    "    # Insert points into subdiv\n",
    "    for p in points :\n",
    "        subdiv.insert(p)\n",
    "\n",
    "    # Make a delaunay triangulation list.\n",
    "    list4 = draw_delaunay(f_w, f_h, subdiv, dictionary)\n",
    "   \n",
    "    # Return the list.\n",
    "    return list4"
   ]
  },
  {
   "cell_type": "code",
   "execution_count": 103,
   "metadata": {},
   "outputs": [],
   "source": [
    "def apply_affine_transform(src, srcTri, dstTri, size) :\n",
    "    \n",
    "    # Given a pair of triangles, find the affine transform.\n",
    "    warpMat = cv2.getAffineTransform(np.float32(srcTri), np.float32(dstTri))\n",
    "    \n",
    "    # Apply the Affine Transform just found to the src image\n",
    "    dst = cv2.warpAffine(src, warpMat, (size[0], size[1]), None, flags=cv2.INTER_LINEAR, borderMode=cv2.BORDER_REFLECT_101)\n",
    "\n",
    "    return dst"
   ]
  },
  {
   "cell_type": "code",
   "execution_count": 131,
   "metadata": {},
   "outputs": [],
   "source": [
    "import imageio"
   ]
  },
  {
   "cell_type": "code",
   "execution_count": 176,
   "metadata": {},
   "outputs": [],
   "source": [
    "original_array = np.loadtxt(\"points1.txt\").reshape(76, 2)\n",
    "\n",
    "\n",
    "\n",
    "\n",
    "original_array = np.int64(original_array)\n",
    "points1 = original_array.tolist()\n",
    "\n",
    "original_array = np.loadtxt(\"points2.txt\").reshape(76, 2)\n",
    "original_array = np.int64(original_array)\n",
    "points2 = original_array.tolist()\n",
    "\n",
    "\n",
    "list3 = points1.copy()\n",
    "np.array(points1[0])+np.array(points1[1])\n",
    "for i in range(len(points1)):\n",
    "    temp = (np.array(points1[i])+np.array(points2[i]))/2\n",
    "    \n",
    "    list3[i] = temp.tolist()\n",
    "\n",
    "list3 = np.array(list3)\n",
    "\n",
    "img1 = cv2.imread('res01.jpeg')\n",
    "img2 = cv2.imread('res02.jpeg')\n",
    "\n",
    "size = (img1.shape[0],img1.shape[1])"
   ]
  },
  {
   "cell_type": "code",
   "execution_count": 177,
   "metadata": {},
   "outputs": [],
   "source": [
    "tri = make_delaunay(size[1], size[0], list3, img1, img2)"
   ]
  },
  {
   "cell_type": "code",
   "execution_count": 185,
   "metadata": {},
   "outputs": [],
   "source": [
    "# tri"
   ]
  },
  {
   "cell_type": "code",
   "execution_count": 187,
   "metadata": {},
   "outputs": [
    {
     "data": {
      "text/plain": [
       "143"
      ]
     },
     "execution_count": 187,
     "metadata": {},
     "output_type": "execute_result"
    }
   ],
   "source": [
    "len(tri)"
   ]
  },
  {
   "cell_type": "code",
   "execution_count": 190,
   "metadata": {},
   "outputs": [],
   "source": [
    "num_images = int(45)\n",
    "#     filenames = []\n",
    "# for j in range(0, num_images):\n",
    "#         filename = f'frame_{1}_{j}.png'\n",
    "#         filenames.append(filename)\n",
    "\n",
    "#         if (frame == n_frames):\n",
    "#             for i in range(5):\n",
    "#                 filenames.append(filename)\n",
    "j = 0\n",
    "\n",
    "img1 = np.float(img1)\n",
    "img2 = np.float(img2)\n",
    "\n",
    "# Read array of corresponding points\n",
    "points = []\n",
    "alpha = j/(num_images-1)\n",
    "\n",
    "# Compute weighted average point coordinates\n",
    "for i in range(0, len(points1)):\n",
    "    x = (1 - alpha) * points1[i][0] + alpha * points2[i][0]\n",
    "    y = (1 - alpha) * points1[i][1] + alpha * points2[i][1]\n",
    "    points.append((x,y))\n",
    "\n",
    "# Allocate space for final output\n",
    "morphed_frame = np.zeros(img1.shape, dtype = img1.dtype)\n",
    "\n",
    "for i in range(len(tri)):    \n",
    "    x = int(tri[i][0])\n",
    "    y = int(tri[i][1])\n",
    "    z = int(tri[i][2])\n",
    "\n",
    "    t1 = [points1[x], points1[y], points1[z]]\n",
    "    t2 = [points2[x], points2[y], points2[z]]\n",
    "    t = [points[x], points[y], points[z]]\n",
    "\n"
   ]
  },
  {
   "cell_type": "code",
   "execution_count": 248,
   "metadata": {},
   "outputs": [],
   "source": [
    "points = []\n",
    "alpha = j/(num_images-1)\n",
    "\n",
    "# Compute weighted average point coordinates\n",
    "for i in range(len(points1)):\n",
    "    points.append(((1 - alpha) * points1[i][0] + alpha * points2[i][0],(1 - alpha) * points1[i][1] + alpha * points2[i][1]))"
   ]
  },
  {
   "cell_type": "code",
   "execution_count": 4,
   "metadata": {},
   "outputs": [],
   "source": [
    "# morphed_frame = np.zeros(img1.shape, dtype = img1.dtype)\n",
    "# morphed_frame = np.zeros_like(img1)\n",
    "# morphed_frame"
   ]
  },
  {
   "cell_type": "code",
   "execution_count": 197,
   "metadata": {},
   "outputs": [],
   "source": [
    "i = 10\n",
    "x = int(tri[i][0])\n",
    "y = int(tri[i][1])\n",
    "z = int(tri[i][2])\n",
    "\n",
    "t1 = [points1[x], points1[y], points1[z]]\n",
    "t2 = [points2[x], points2[y], points2[z]]\n",
    "t = [points[x], points[y], points[z]]"
   ]
  },
  {
   "cell_type": "code",
   "execution_count": 198,
   "metadata": {},
   "outputs": [
    {
     "data": {
      "text/plain": [
       "([[119, 189], [114, 171], [142, 165]],\n",
       " [[115, 192], [111, 172], [140, 163]],\n",
       " [(119.0, 189.0), (114.0, 171.0), (142.0, 165.0)])"
      ]
     },
     "execution_count": 198,
     "metadata": {},
     "output_type": "execute_result"
    }
   ],
   "source": [
    "t1,t2,t"
   ]
  },
  {
   "cell_type": "code",
   "execution_count": 214,
   "metadata": {},
   "outputs": [],
   "source": [
    "def bounds(t):\n",
    "    t_1 = (t[0])\n",
    "    t_2 = (t[1])\n",
    "    t_3 = (t[2])\n",
    "    min_x = np.int(np.min([t_1[0],t_3[0],t_2[0]]))\n",
    "    min_y = np.int(np.min([t_1[1],t_3[1],t_2[1]]))\n",
    "    max_x = np.int(np.max([t_1[0],t_3[0],t_2[0]]))\n",
    "    max_y = np.int(np.max([t_1[1],t_3[1],t_2[1]]))\n",
    "    w = max_x - min_x + 1\n",
    "    h = max_y - min_y + 1\n",
    "    return [min_x,min_y,w,h]"
   ]
  },
  {
   "cell_type": "code",
   "execution_count": 215,
   "metadata": {},
   "outputs": [
    {
     "data": {
      "text/plain": [
       "[114, 165, 29, 25]"
      ]
     },
     "execution_count": 215,
     "metadata": {},
     "output_type": "execute_result"
    }
   ],
   "source": [
    "bounds(t)"
   ]
  },
  {
   "cell_type": "code",
   "execution_count": 216,
   "metadata": {},
   "outputs": [],
   "source": [
    "\n",
    "r1 = bounds(t1)\n",
    "r2 = bounds(t2)\n",
    "r = bounds(t)\n",
    "\n",
    "t1_0 = []\n",
    "t2_0 = []\n",
    "t_0 = []\n",
    "\n",
    "for k in range(3):\n",
    "\n",
    "    t1_0.append(((t1[k][0] - r1[0]),(t1[k][1] - r1[1])))\n",
    "    t2_0.append(((t2[k][0] - r2[0]),(t2[k][1] - r2[1])))\n",
    "    t_0.append(((t[k][0] - r[0]),(t[k][1] - r[1])))\n",
    "\n",
    "\n",
    "mask = np.zeros((r[3], r[2], 3), dtype = np.float64)\n",
    "cv2.fillConvexPoly(mask, np.int32(t_0), (1.0, 1.0, 1.0), 16, 0)\n",
    "\n",
    "\n",
    "img1_0 = img1[r1[1]:r1[1] + r1[3], r1[0]:r1[0] + r1[2]]\n",
    "img2_0 = img2[r2[1]:r2[1] + r2[3], r2[0]:r2[0] + r2[2]]\n",
    "\n",
    "size = (r[2], r[3])\n",
    "warpImage1 = apply_affine_transform(img1_0, t1_0, t_0, size)\n",
    "warpImage2 = apply_affine_transform(img2_0, t2_0, t_0, size)\n",
    "\n",
    "\n",
    "imgRect = (1.0 - alpha) * warpImage1 + alpha * warpImage2\n",
    "\n",
    "\n",
    "frame_img[r[1]:r[1]+r[3], r[0]:r[0]+r[2]] = frame_img[r[1]:r[1]+r[3], r[0]:r[0]+r[2]] * ( 1 - mask ) + imgRect * mask\n",
    "    "
   ]
  },
  {
   "cell_type": "code",
   "execution_count": 217,
   "metadata": {},
   "outputs": [
    {
     "data": {
      "text/plain": [
       "([114, 165, 29, 25], [111, 163, 30, 30], [114, 165, 29, 25])"
      ]
     },
     "execution_count": 217,
     "metadata": {},
     "output_type": "execute_result"
    }
   ],
   "source": [
    "r1,r2,r"
   ]
  },
  {
   "cell_type": "code",
   "execution_count": 218,
   "metadata": {},
   "outputs": [
    {
     "data": {
      "text/plain": [
       "<matplotlib.image.AxesImage at 0x7fd783858760>"
      ]
     },
     "execution_count": 218,
     "metadata": {},
     "output_type": "execute_result"
    },
    {
     "data": {
      "image/png": "[encoded data removed]",
      "text/plain": [
       "<Figure size 432x288 with 1 Axes>"
      ]
     },
     "metadata": {
      "needs_background": "light"
     },
     "output_type": "display_data"
    }
   ],
   "source": [
    "plt.imshow(mask)"
   ]
  },
  {
   "cell_type": "code",
   "execution_count": 236,
   "metadata": {},
   "outputs": [],
   "source": [
    "num_images = int(45)\n",
    "img1 = np.float64(image1)\n",
    "img2 = np.float64(image2)\n",
    "\n",
    "\n",
    "filenames = []\n",
    "for frame in range(num_images):\n",
    "    filename = f'frame_{1}_{frame}.png'\n",
    "    filenames.append(filename)\n",
    "\n",
    "    points = []\n",
    "    alpha = frame/(num_images-1)\n",
    "\n",
    "\n",
    "    for i in range(len(points1)):\n",
    "        points.append(((1 - alpha) * points1[i][0] + alpha * points2[i][0],(1 - alpha) * points1[i][1] + alpha * points2[i][1]))\n",
    "\n",
    "\n",
    "    frame_img = np.zeros_like(img1)\n",
    "\n",
    "    for i in range(len(tri)):    \n",
    "\n",
    "        t1 = [points1[int(tri[i][0])], points1[int(tri[i][1])], points1[int(tri[i][2])]]\n",
    "        t2 = [points2[int(tri[i][0])], points2[int(tri[i][1])], points2[int(tri[i][2])]]\n",
    "        t = [points[int(tri[i][0])], points[int(tri[i][1])], points[int(tri[i][2])]]\n",
    "\n",
    "        r1 = bounds(t1)\n",
    "        r2 = bounds(t2)\n",
    "        r = bounds(t)\n",
    "\n",
    "\n",
    "        t1_0 = []\n",
    "        t2_0 = []\n",
    "        t_0 = []\n",
    "\n",
    "        for k in range(3):\n",
    "            \n",
    "            t1_0.append(((t1[k][0] - r1[0]),(t1[k][1] - r1[1])))\n",
    "            t2_0.append(((t2[k][0] - r2[0]),(t2[k][1] - r2[1])))\n",
    "            t_0.append(((t[k][0] - r[0]),(t[k][1] - r[1])))\n",
    "\n",
    "\n",
    "        mask = np.zeros((r[3], r[2], 3), dtype = np.float64)\n",
    "        cv2.fillConvexPoly(mask, np.int32(t_0), (1.0, 1.0, 1.0), 16, 0)\n",
    "        \n",
    "\n",
    "        img1_0 = img1[r1[1]:r1[1] + r1[3], r1[0]:r1[0] + r1[2]]\n",
    "        img2_0 = img2[r2[1]:r2[1] + r2[3], r2[0]:r2[0] + r2[2]]\n",
    "\n",
    "        size = (r[2], r[3])\n",
    "        warpImage1 = apply_affine_transform(img1_0, t1_0, t_0, size)\n",
    "        warpImage2 = apply_affine_transform(img2_0, t2_0, t_0, size)\n",
    "\n",
    "\n",
    "        imgRect = (1.0 - alpha) * warpImage1 + alpha * warpImage2\n",
    "\n",
    "\n",
    "        frame_img[r[1]:r[1]+r[3], r[0]:r[0]+r[2]] = frame_img[r[1]:r[1]+r[3], r[0]:r[0]+r[2]] * ( 1 - mask ) + imgRect * mask\n",
    "    \n",
    "    res = (cv2.cvtColor(np.uint8(frame_img), cv2.COLOR_BGR2RGB))\n",
    "    \n",
    "    plt.imsave(filename,res)\n",
    "    if frame == 14:\n",
    "        plt.imsave('res03.jpg',res)\n",
    "    if frame == 29:\n",
    "        plt.imsave('res04.jpg',res)\n",
    "\n",
    "with imageio.get_writer('morph.gif', mode='I') as writer:\n",
    "    for filename in filenames:\n",
    "        temp = imageio.imread(filename)\n",
    "        writer.append_data(temp)\n",
    "for filename in set(filenames):\n",
    "    os.remove(filename)\n"
   ]
  },
  {
   "cell_type": "code",
   "execution_count": null,
   "metadata": {},
   "outputs": [],
   "source": []
  },
  {
   "cell_type": "code",
   "execution_count": null,
   "metadata": {},
   "outputs": [],
   "source": []
  },
  {
   "cell_type": "code",
   "execution_count": 237,
   "metadata": {},
   "outputs": [],
   "source": [
    "num_images = int(45)\n",
    "img1 = np.float64(image2)\n",
    "img2 = np.float64(image1)\n",
    "points1,points2 = points2,points1\n",
    "\n",
    "filenames = []\n",
    "for frame in range(0, num_images):\n",
    "    filename = f'frame_{1}_{frame}.png'\n",
    "    filenames.append(filename)\n",
    "\n",
    "#         if (frame == n_frames):\n",
    "#             for i in range(5):\n",
    "#                 filenames.append(filename)\n",
    "# j = 0\n",
    "\n",
    "\n",
    "    points = []\n",
    "    alpha = frame/(num_images-1)\n",
    "\n",
    "\n",
    "    for i in range(len(points1)):\n",
    "        points.append(((1 - alpha) * points1[i][0] + alpha * points2[i][0],(1 - alpha) * points1[i][1] + alpha * points2[i][1]))\n",
    "\n",
    "\n",
    "\n",
    "\n",
    "    frame_img = np.zeros_like(img1)\n",
    "\n",
    "    for i in range(len(tri)):    \n",
    "        t1 = [points1[int(tri[i][0])], points1[int(tri[i][1])], points1[int(tri[i][2])]]\n",
    "        t2 = [points2[int(tri[i][0])], points2[int(tri[i][1])], points2[int(tri[i][2])]]\n",
    "        t = [points[int(tri[i][0])], points[int(tri[i][1])], points[int(tri[i][2])]]\n",
    "        \n",
    "        r1 = bounds(t1)\n",
    "        r2 = bounds(t2)\n",
    "        r = bounds(t)\n",
    "\n",
    "\n",
    "        t1_0 = []\n",
    "        t2_0 = []\n",
    "        t_0 = []\n",
    "\n",
    "        for k in range(3):\n",
    "            \n",
    "            t1_0.append(((t1[k][0] - r1[0]),(t1[k][1] - r1[1])))\n",
    "            t2_0.append(((t2[k][0] - r2[0]),(t2[k][1] - r2[1])))\n",
    "            t_0.append(((t[k][0] - r[0]),(t[k][1] - r[1])))\n",
    "\n",
    "\n",
    "        mask = np.zeros((r[3], r[2], 3), dtype = np.float64)\n",
    "        cv2.fillConvexPoly(mask, np.int32(t_0), (1.0, 1.0, 1.0), 16, 0)\n",
    "        \n",
    "\n",
    "        img1_0 = img1[r1[1]:r1[1] + r1[3], r1[0]:r1[0] + r1[2]]\n",
    "        img2_0 = img2[r2[1]:r2[1] + r2[3], r2[0]:r2[0] + r2[2]]\n",
    "\n",
    "        size = (r[2], r[3])\n",
    "        warpImage1 = apply_affine_transform(img1_0, t1_0, t_0, size)\n",
    "        warpImage2 = apply_affine_transform(img2_0, t2_0, t_0, size)\n",
    "\n",
    "\n",
    "        imgRect = (1.0 - alpha) * warpImage1 + alpha * warpImage2\n",
    "\n",
    "\n",
    "        frame_img[r[1]:r[1]+r[3], r[0]:r[0]+r[2]] = frame_img[r[1]:r[1]+r[3], r[0]:r[0]+r[2]] * ( 1 - mask ) + imgRect * mask\n",
    "    \n",
    "    res = (cv2.cvtColor(np.uint8(frame_img), cv2.COLOR_BGR2RGB))\n",
    "    \n",
    "    plt.imsave(filename,res)\n",
    "    if frame == 14:\n",
    "        plt.imsave('res03.jpg',res)\n",
    "    if frame == 29:\n",
    "        plt.imsave('res04.jpg',res)\n",
    "\n",
    "with imageio.get_writer('morph.gif', mode='I') as writer:\n",
    "    for filename in filenames:\n",
    "        temp = imageio.imread(filename)\n",
    "        writer.append_data(temp)\n",
    "for filename in set(filenames):\n",
    "    os.remove(filename)\n",
    "\n"
   ]
  },
  {
   "cell_type": "code",
   "execution_count": 240,
   "metadata": {},
   "outputs": [],
   "source": [
    "points1,points2 = points2,points1"
   ]
  },
  {
   "cell_type": "code",
   "execution_count": 241,
   "metadata": {},
   "outputs": [],
   "source": [
    "num_images = int(45)\n",
    "img1 = np.float32(image1)\n",
    "img2 = np.float32(image2)\n",
    "\n",
    "\n",
    "filenames = []\n",
    "for frame in range(0, num_images):\n",
    "    filename = f'frame_{1}_{frame}.png'\n",
    "    filenames.append(filename)\n",
    "\n",
    "#         if (frame == n_frames):\n",
    "#             for i in range(5):\n",
    "#                 filenames.append(filename)\n",
    "# j = 0\n",
    "\n",
    "\n",
    "    points = []\n",
    "    alpha = frame/(num_images-1)\n",
    "\n",
    "    for i in range(len(points1)):\n",
    "        points.append(((1 - alpha) * points1[i][0] + alpha * points2[i][0],(1 - alpha) * points1[i][1] + alpha * points2[i][1]))\n",
    "\n",
    "\n",
    "\n",
    "        \n",
    "    frame_img = np.zeros(img1.shape, dtype = img1.dtype)\n",
    "\n",
    "    for i in range(len(tri)):    \n",
    "        t1 = [points1[int(tri[i][0])], points1[int(tri[i][1])], points1[int(tri[i][2])]]\n",
    "        t2 = [points2[int(tri[i][0])], points2[int(tri[i][1])], points2[int(tri[i][2])]]\n",
    "        t = [points[int(tri[i][0])], points[int(tri[i][1])], points[int(tri[i][2])]]\n",
    "\n",
    "        r1 = bounds(t1)\n",
    "        r2 = bounds(t2)\n",
    "        r = bounds(t)\n",
    "\n",
    "        t1_0 = []\n",
    "        t2_0 = []\n",
    "        t_0 = []\n",
    "\n",
    "        for k in range(3):\n",
    "            \n",
    "            t1_0.append(((t1[k][0] - r1[0]),(t1[k][1] - r1[1])))\n",
    "            t2_0.append(((t2[k][0] - r2[0]),(t2[k][1] - r2[1])))\n",
    "            t_0.append(((t[k][0] - r[0]),(t[k][1] - r[1])))\n",
    "\n",
    "\n",
    "        mask = np.zeros((r[3], r[2], 3), dtype = np.float64)\n",
    "        cv2.fillConvexPoly(mask, np.int32(t_0), (1.0, 1.0, 1.0), 16, 0)\n",
    "        \n",
    "\n",
    "        img1_0 = img1[r1[1]:r1[1] + r1[3], r1[0]:r1[0] + r1[2]]\n",
    "        img2_0 = img2[r2[1]:r2[1] + r2[3], r2[0]:r2[0] + r2[2]]\n",
    "\n",
    "        size = (r[2], r[3])\n",
    "        warpImage1 = apply_affine_transform(img1_0, t1_0, t_0, size)\n",
    "        warpImage2 = apply_affine_transform(img2_0, t2_0, t_0, size)\n",
    "\n",
    "\n",
    "        imgRect = (1.0 - alpha) * warpImage1 + alpha * warpImage2\n",
    "\n",
    "\n",
    "        frame_img[r[1]:r[1]+r[3], r[0]:r[0]+r[2]] = frame_img[r[1]:r[1]+r[3], r[0]:r[0]+r[2]] * ( 1 - mask ) + imgRect * mask\n",
    "    \n",
    "    res = (cv2.cvtColor(np.uint8(frame_img), cv2.COLOR_BGR2RGB))\n",
    "    \n",
    "    plt.imsave(filename,res)\n",
    "    if frame == 14:\n",
    "        plt.imsave('res03.jpg',res)\n",
    "    if frame == 29:\n",
    "        plt.imsave('res04.jpg',res)\n",
    "\n",
    "img1 = np.float32(image2)\n",
    "img2 = np.float32(image1)\n",
    "points1,points2 = points2,points1\n",
    "\n",
    "# filenames = []\n",
    "for frame in range(num_images, num_images + num_images):\n",
    "    filename = f'frame_{1}_{frame}.png'\n",
    "    filenames.append(filename)\n",
    "\n",
    "#         if (frame == n_frames):\n",
    "#             for i in range(5):\n",
    "#                 filenames.append(filename)\n",
    "# j = 0\n",
    "\n",
    "\n",
    "\n",
    "    points = []\n",
    "    alpha = (frame-num_images)/(num_images-1)\n",
    "\n",
    "\n",
    "    for i in range(len(points1)):\n",
    "        points.append(((1 - alpha) * points1[i][0] + alpha * points2[i][0],(1 - alpha) * points1[i][1] + alpha * points2[i][1]))\n",
    "\n",
    "\n",
    "\n",
    "\n",
    "    frame_img = np.zeros(img1.shape, dtype = img1.dtype)\n",
    "\n",
    "    for i in range(len(tri)):    \n",
    "        t1 = [points1[int(tri[i][0])], points1[int(tri[i][1])], points1[int(tri[i][2])]]\n",
    "        t2 = [points2[int(tri[i][0])], points2[int(tri[i][1])], points2[int(tri[i][2])]]\n",
    "        t = [points[int(tri[i][0])], points[int(tri[i][1])], points[int(tri[i][2])]]\n",
    "\n",
    "        r1 = bounds(t1)\n",
    "        r2 = bounds(t2)\n",
    "        r = bounds(t)\n",
    "\n",
    "\n",
    "        t1_0 = []\n",
    "        t2_0 = []\n",
    "        t_0 = []\n",
    "\n",
    "        for k in range(0, 3):\n",
    "            \n",
    "            t1_0.append(((t1[k][0] - r1[0]),(t1[k][1] - r1[1])))\n",
    "            t2_0.append(((t2[k][0] - r2[0]),(t2[k][1] - r2[1])))\n",
    "            t_0.append(((t[k][0] - r[0]),(t[k][1] - r[1])))\n",
    "\n",
    "\n",
    "        mask = np.zeros((r[3], r[2], 3), dtype = np.float64)\n",
    "        cv2.fillConvexPoly(mask, np.int32(t_0), (1.0, 1.0, 1.0), 16, 0)\n",
    "        \n",
    "\n",
    "        img1_0 = img1[r1[1]:r1[1] + r1[3], r1[0]:r1[0] + r1[2]]\n",
    "        img2_0 = img2[r2[1]:r2[1] + r2[3], r2[0]:r2[0] + r2[2]]\n",
    "\n",
    "        size = (r[2], r[3])\n",
    "        warpImage1 = apply_affine_transform(img1_0, t1_0, t_0, size)\n",
    "        warpImage2 = apply_affine_transform(img2_0, t2_0, t_0, size)\n",
    "\n",
    "\n",
    "        imgRect = (1.0 - alpha) * warpImage1 + alpha * warpImage2\n",
    "\n",
    "\n",
    "        frame_img[r[1]:r[1]+r[3], r[0]:r[0]+r[2]] = frame_img[r[1]:r[1]+r[3], r[0]:r[0]+r[2]] * ( 1 - mask ) + imgRect * mask\n",
    "    \n",
    "    res = (cv2.cvtColor(np.uint8(frame_img), cv2.COLOR_BGR2RGB))\n",
    "    \n",
    "    plt.imsave(filename,res)\n",
    "#     if frame == 14:\n",
    "#         plt.imsave('res03.jpg',res)\n",
    "#     if frame == 29:\n",
    "#         plt.imsave('res04.jpg',res)\n",
    "\n",
    "with imageio.get_writer('morph.gif', mode='I') as writer:\n",
    "    for filename in filenames:\n",
    "        temp = imageio.imread(filename)\n",
    "        writer.append_data(temp)\n",
    "for filename in set(filenames):\n",
    "    os.remove(filename)\n",
    "\n",
    "points1,points2 = points2,points1"
   ]
  },
  {
   "cell_type": "code",
   "execution_count": null,
   "metadata": {},
   "outputs": [],
   "source": []
  }
 ],
 "metadata": {
  "kernelspec": {
   "display_name": "Python 3",
   "language": "python",
   "name": "python3"
  },
  "language_info": {
   "codemirror_mode": {
    "name": "ipython",
    "version": 3
   },
   "file_extension": ".py",
   "mimetype": "text/x-python",
   "name": "python",
   "nbconvert_exporter": "python",
   "pygments_lexer": "ipython3",
   "version": "3.8.5"
  }
 },
 "nbformat": 4,
 "nbformat_minor": 4
}
